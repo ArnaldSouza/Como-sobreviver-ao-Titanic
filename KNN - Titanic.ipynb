{
  "nbformat": 4,
  "nbformat_minor": 0,
  "metadata": {
    "colab": {
      "provenance": []
    },
    "kernelspec": {
      "name": "python3",
      "display_name": "Python 3"
    },
    "language_info": {
      "name": "python"
    }
  },
  "cells": [
    {
      "cell_type": "code",
      "execution_count": null,
      "metadata": {
        "id": "ylDuYt_n1h8p"
      },
      "outputs": [],
      "source": [
        "#MÉTODO COM ACURÁCIO DE 0.61961\n",
        "#bibliotecas que serão usadas\n",
        "\n",
        "import numpy as np #importa a biblioteca usada para trabalhar com vetores e matrizes\n",
        "import pandas as pd #importa a biblioteca usada para trabalhar com dataframes (dados em formato de tabela) e análise de dados\n",
        "import os"
      ]
    },
    {
      "cell_type": "code",
      "source": [
        "#EXTRAÇÃO DOS ARQUIVOS QUE SERÃO UTILIZADOS PARA FAZER A PREDIÇÃO\n",
        "\n",
        "import urllib.request\n",
        "from zipfile import ZipFile # biblioteca para arquivos zipados\n",
        "\n",
        "url = 'https://www.dropbox.com/s/vhg7heemzfx652f/dados.zip?dl=0'\n",
        "\n",
        "# especifica o local onde ficarao os arquivos\n",
        "pathFiles = 'dados/'\n",
        "\n",
        "# cria uma pasta onde ficarao os arquivos\n",
        "if not os.path.isdir(pathFiles):\n",
        "    os.mkdir(pathFiles)\n",
        "\n",
        "# faz o download do arquivo\n",
        "os.system('wget -O %stitanic.zip %s' %(pathFiles,url))\n",
        "\n",
        "# descompacta os arquivos\n",
        "z = ZipFile(pathFiles + 'titanic.zip', 'r')\n",
        "z.extractall(pathFiles)\n",
        "z.close()\n",
        "\n",
        "print('Arquivos extraídos com sucesso!')"
      ],
      "metadata": {
        "id": "ji_Jn0yo1qqZ"
      },
      "execution_count": null,
      "outputs": []
    },
    {
      "cell_type": "code",
      "source": [
        "#CARREGAMENTO DOS ARQUIVOS \n",
        "df_train = pd.read_csv( pathFiles + 'train.csv', sep=',', index_col=None) \n",
        "df_test = pd.read_csv( pathFiles + 'test.csv', sep=',', index_col=None) \n",
        "df_submissao = pd.read_csv( pathFiles + 'gender_submission.csv', sep=',', index_col=None) \n",
        "\n",
        "display(df_train.head(n=3))\n",
        "display(df_test.head(n=3))\n",
        "display(df_submissao.head(n=3))"
      ],
      "metadata": {
        "id": "IBPuyj321y1Z"
      },
      "execution_count": null,
      "outputs": []
    },
    {
      "cell_type": "code",
      "source": [
        "#REMOVENDO DADOS IRRELEVANTES\n",
        "\n",
        "print(df_train.columns)\n",
        "\n",
        "df_train = df_train[['Survived','Age','Fare']]\n",
        "df_test = df_test[['Age','Fare']]\n",
        "\n",
        "# imprime o dataframe\n",
        "display(df_train.head(n=5))\n",
        "display(df_test.head(n=5))"
      ],
      "metadata": {
        "id": "_tuOC1hv16nx"
      },
      "execution_count": null,
      "outputs": []
    },
    {
      "cell_type": "code",
      "source": [
        "#SUBSTITUINDO VALORES NULOS POR 0\n",
        "\n",
        "df_train = df_train.fillna(0)\n",
        "df_test = df_test.fillna(0)"
      ],
      "metadata": {
        "id": "zZ3AqbLB2A8Z"
      },
      "execution_count": null,
      "outputs": []
    },
    {
      "cell_type": "code",
      "source": [
        "#COLOCANDO OS DADOS NAS MATRIZES\n",
        "#MATRIZ X GUARDA AS AMOSTRAS E A Y GUARDA AS CLASSES\n",
        "\n",
        "# dados de treino\n",
        "X_train = df_train.iloc[:,1:].values\n",
        "Y_train = df_train.iloc[:,0].values\n",
        "\n",
        "# dados de teste\n",
        "X_test = df_test.values\n",
        "\n",
        "print('\\n5 primeiros dados de treino: ')\n",
        "print(X_train[0:5,:])\n",
        "\n",
        "print('\\n5 primeiras classes de treino: ')\n",
        "print(Y_train[0:5])\n",
        "\n",
        "print('\\n5 primeiros dados de teste: ')\n",
        "print(X_test[0:5,:])"
      ],
      "metadata": {
        "id": "2KGEWWNm2Ixn"
      },
      "execution_count": null,
      "outputs": []
    },
    {
      "cell_type": "code",
      "source": [
        "#DADOS DE TREINO USANDO O KNN (K NEAREST NEIGHBORS)\n",
        "\n",
        "import sklearn as skl #importa o scikitlearn\n",
        "from sklearn import neighbors #importa o classificador KNN\n",
        "\n",
        "# inicia o classificador \n",
        "model = skl.neighbors.KNeighborsClassifier(n_neighbors = 3)\n",
        "\n",
        "# treina o classificador com os dados de treinameto\n",
        "model.fit(X_train, Y_train)\n",
        "\n",
        "print(model)"
      ],
      "metadata": {
        "id": "08a-0KJZ2VAn"
      },
      "execution_count": null,
      "outputs": []
    },
    {
      "cell_type": "code",
      "source": [
        "#USANDO O CLASSIFICADOR PARA PREDIZER AS CLASSES DA BASE DE DADOS TESTE\n",
        "\n",
        "Y_pred = model.predict(X_test)\n",
        "\n",
        "print('5 primeiras classes preditas')\n",
        "print(Y_pred[0:5])"
      ],
      "metadata": {
        "id": "A1BB4aio2s2Y"
      },
      "execution_count": null,
      "outputs": []
    },
    {
      "cell_type": "code",
      "source": [
        "#PREPARANDO ARQUIVO PARA SUBMISSÃO\n",
        "\n",
        "df_submissao['Survived'] = Y_pred\n",
        "\n",
        "#COLOCANDO O ARQUIVO EM FORMATO CSV E SALVANDO NA PASTA DADOS\n",
        "df_submissao.to_csv('dados/minhas_predicoes.csv', index=False)"
      ],
      "metadata": {
        "id": "s9ORjEqh26bw"
      },
      "execution_count": null,
      "outputs": []
    }
  ]
}
